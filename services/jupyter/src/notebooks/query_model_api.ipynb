{
 "cells": [
  {
   "cell_type": "markdown",
   "metadata": {},
   "source": [
    "# Test Local AWS Lambda API\n",
    "\n",
    "After the API is running locally inside a Docker container, you can run the following lines to test the model API."
   ]
  },
  {
   "cell_type": "code",
   "execution_count": 1,
   "metadata": {},
   "outputs": [],
   "source": [
    "import json\n",
    "from pprint import pprint\n",
    "\n",
    "import requests"
   ]
  },
  {
   "cell_type": "code",
   "execution_count": 2,
   "metadata": {},
   "outputs": [],
   "source": [
    "url = \"http://localhost:9000/2015-03-31/functions/function/invocations\"\n",
    "headers = {\"Content-Type\": \"application/json\"}\n",
    "payload = json.dumps({\"text\": 'A test sentence.'})\n",
    "response = requests.post(url, data=payload, headers=headers)"
   ]
  },
  {
   "cell_type": "code",
   "execution_count": 3,
   "metadata": {},
   "outputs": [
    {
     "name": "stdout",
     "output_type": "stream",
     "text": [
      "{'body': {'predicted_labels': {'Business': 0.526613175868988,\n",
      "                               'Sci/Tech': 0.3966084122657776,\n",
      "                               'Sports': 0.056743722409009933,\n",
      "                               'World': 0.020034728571772575}},\n",
      " 'statusCode': 200}\n"
     ]
    }
   ],
   "source": [
    "pprint(response.json())"
   ]
  },
  {
   "cell_type": "code",
   "execution_count": null,
   "metadata": {},
   "outputs": [],
   "source": []
  }
 ],
 "metadata": {
  "kernelspec": {
   "display_name": "Python 3 (ipykernel)",
   "language": "python",
   "name": "python3"
  },
  "language_info": {
   "codemirror_mode": {
    "name": "ipython",
    "version": 3
   },
   "file_extension": ".py",
   "mimetype": "text/x-python",
   "name": "python",
   "nbconvert_exporter": "python",
   "pygments_lexer": "ipython3",
   "version": "3.8.13"
  },
  "vscode": {
   "interpreter": {
    "hash": "45566e35053653ddc5f64b81b73793e0e75c4a9436c09bd7e71671fcb8c38cef"
   }
  }
 },
 "nbformat": 4,
 "nbformat_minor": 2
}
